{
 "cells": [
  {
   "cell_type": "code",
   "execution_count": 3,
   "id": "b373bf35-39be-4f4e-803b-b2b4c27a0ea6",
   "metadata": {},
   "outputs": [
    {
     "name": "stdout",
     "output_type": "stream",
     "text": [
      "\n",
      "TO-DO List Menu:\n",
      "1. View Tasks\n",
      "2. Add Task\n",
      "3. Delete Task\n",
      "4. Exit\n"
     ]
    },
    {
     "name": "stdin",
     "output_type": "stream",
     "text": [
      "Enter your choice (1-4):  2\n",
      "Enter the task description:  Swimming\n"
     ]
    },
    {
     "name": "stdout",
     "output_type": "stream",
     "text": [
      "Task added successfully!\n",
      "\n",
      "TO-DO List Menu:\n",
      "1. View Tasks\n",
      "2. Add Task\n",
      "3. Delete Task\n",
      "4. Exit\n"
     ]
    },
    {
     "name": "stdin",
     "output_type": "stream",
     "text": [
      "Enter your choice (1-4):  2\n",
      "Enter the task description:  Running\n"
     ]
    },
    {
     "name": "stdout",
     "output_type": "stream",
     "text": [
      "Task added successfully!\n",
      "\n",
      "TO-DO List Menu:\n",
      "1. View Tasks\n",
      "2. Add Task\n",
      "3. Delete Task\n",
      "4. Exit\n"
     ]
    },
    {
     "name": "stdin",
     "output_type": "stream",
     "text": [
      "Enter your choice (1-4):  2\n",
      "Enter the task description:  Enjoying\n"
     ]
    },
    {
     "name": "stdout",
     "output_type": "stream",
     "text": [
      "Task added successfully!\n",
      "\n",
      "TO-DO List Menu:\n",
      "1. View Tasks\n",
      "2. Add Task\n",
      "3. Delete Task\n",
      "4. Exit\n"
     ]
    },
    {
     "name": "stdin",
     "output_type": "stream",
     "text": [
      "Enter your choice (1-4):  2\n",
      "Enter the task description:  Playing\n"
     ]
    },
    {
     "name": "stdout",
     "output_type": "stream",
     "text": [
      "Task added successfully!\n",
      "\n",
      "TO-DO List Menu:\n",
      "1. View Tasks\n",
      "2. Add Task\n",
      "3. Delete Task\n",
      "4. Exit\n"
     ]
    },
    {
     "name": "stdin",
     "output_type": "stream",
     "text": [
      "Enter your choice (1-4):  1\n"
     ]
    },
    {
     "name": "stdout",
     "output_type": "stream",
     "text": [
      "\n",
      "Your TO-DO List:\n",
      "1. Swimming\n",
      "2. Running\n",
      "3. Enjoying\n",
      "4. Playing\n",
      "\n",
      "TO-DO List Menu:\n",
      "1. View Tasks\n",
      "2. Add Task\n",
      "3. Delete Task\n",
      "4. Exit\n"
     ]
    },
    {
     "name": "stdin",
     "output_type": "stream",
     "text": [
      "Enter your choice (1-4):  3\n"
     ]
    },
    {
     "name": "stdout",
     "output_type": "stream",
     "text": [
      "\n",
      "Your TO-DO List:\n",
      "1. Swimming\n",
      "2. Running\n",
      "3. Enjoying\n",
      "4. Playing\n"
     ]
    },
    {
     "name": "stdin",
     "output_type": "stream",
     "text": [
      "Enter the task number to delete:  3\n"
     ]
    },
    {
     "name": "stdout",
     "output_type": "stream",
     "text": [
      "Task 'Enjoying' deleted successfully!\n",
      "\n",
      "TO-DO List Menu:\n",
      "1. View Tasks\n",
      "2. Add Task\n",
      "3. Delete Task\n",
      "4. Exit\n"
     ]
    },
    {
     "name": "stdin",
     "output_type": "stream",
     "text": [
      "Enter your choice (1-4):  1\n"
     ]
    },
    {
     "name": "stdout",
     "output_type": "stream",
     "text": [
      "\n",
      "Your TO-DO List:\n",
      "1. Swimming\n",
      "2. Running\n",
      "3. Playing\n",
      "\n",
      "TO-DO List Menu:\n",
      "1. View Tasks\n",
      "2. Add Task\n",
      "3. Delete Task\n",
      "4. Exit\n"
     ]
    },
    {
     "name": "stdin",
     "output_type": "stream",
     "text": [
      "Enter your choice (1-4):  4\n"
     ]
    },
    {
     "name": "stdout",
     "output_type": "stream",
     "text": [
      "Goodbye!\n"
     ]
    }
   ],
   "source": [
    "import json\n",
    "FILE_NAME = \"todo_list.json\"\n",
    "\n",
    "def load_tasks():\n",
    "    \"\"\"Load tasks from the file.\"\"\"\n",
    "    if os.path.exists(FILE_NAME):\n",
    "        with open(FILE_NAME, \"r\") as file:\n",
    "            return json.load(file)\n",
    "    return []\n",
    "\n",
    "def save_tasks(tasks):\n",
    "    \"\"\"Save tasks to the file.\"\"\"\n",
    "    with open(FILE_NAME, \"w\") as file:\n",
    "        json.dump(tasks, file, indent=4)\n",
    "\n",
    "def add_task(tasks):\n",
    "    \"\"\"Add a new task to the list.\"\"\"\n",
    "    task = input(\"Enter the task description: \").strip()\n",
    "    if task:\n",
    "        tasks.append(task)\n",
    "        print(\"Task added successfully!\")\n",
    "    else:\n",
    "        print(\"Task description cannot be empty.\")\n",
    "\n",
    "\n",
    "def delete_task(tasks):\n",
    "    \"\"\"Delete a task from the list.\"\"\"\n",
    "    if not tasks:\n",
    "        print(\"No tasks to delete.\")\n",
    "        return\n",
    "\n",
    "    view_tasks(tasks)\n",
    "    try:\n",
    "        task_index = int(input(\"Enter the task number to delete: \")) - 1\n",
    "        if 0 <= task_index < len(tasks):\n",
    "            removed_task = tasks.pop(task_index)\n",
    "            print(f\"Task '{removed_task}' deleted successfully!\")\n",
    "        else:\n",
    "            print(\"Invalid task number.\")\n",
    "    except ValueError:\n",
    "        print(\"Please enter a valid number.\")\n",
    "\n",
    "\n",
    "def view_tasks(tasks):\n",
    "    \"\"\"View all tasks in the list.\"\"\"\n",
    "    if tasks:\n",
    "        print(\"\\nYour TO-DO List:\")\n",
    "        for idx, task in enumerate(tasks, start=1):\n",
    "            print(f\"{idx}. {task}\")\n",
    "    else:\n",
    "        print(\"\\nYour TO-DO List is empty.\")\n",
    "\n",
    "\n",
    "def main():\n",
    "    \"\"\"Main function to run the TO-DO list application.\"\"\"\n",
    "    tasks = load_tasks()\n",
    "\n",
    "    while True:\n",
    "        print(\"\\nTO-DO List Menu:\")\n",
    "        print(\"1. View Tasks\")\n",
    "        print(\"2. Add Task\")\n",
    "        print(\"3. Delete Task\")\n",
    "        print(\"4. Exit\")\n",
    "\n",
    "        choice = input(\"Enter your choice (1-4): \").strip()\n",
    "\n",
    "        if choice == \"1\":\n",
    "            view_tasks(tasks)\n",
    "        elif choice == \"2\":\n",
    "            add_task(tasks)\n",
    "            save_tasks(tasks)\n",
    "        elif choice == \"3\":\n",
    "            delete_task(tasks)\n",
    "            save_tasks(tasks)\n",
    "        elif choice == \"4\":\n",
    "            save_tasks(tasks)\n",
    "            print(\"Goodbye!\")\n",
    "            break\n",
    "        else:\n",
    "            print(\"Invalid choice. Please try again.\")\n",
    "\n",
    "if __name__ == \"__main__\":\n",
    "    main()\n"
   ]
  },
  {
   "cell_type": "code",
   "execution_count": null,
   "id": "8f1096dd-1975-4627-953f-50be093e83aa",
   "metadata": {},
   "outputs": [],
   "source": []
  }
 ],
 "metadata": {
  "kernelspec": {
   "display_name": "Python [conda env:base] *",
   "language": "python",
   "name": "conda-base-py"
  },
  "language_info": {
   "codemirror_mode": {
    "name": "ipython",
    "version": 3
   },
   "file_extension": ".py",
   "mimetype": "text/x-python",
   "name": "python",
   "nbconvert_exporter": "python",
   "pygments_lexer": "ipython3",
   "version": "3.12.7"
  }
 },
 "nbformat": 4,
 "nbformat_minor": 5
}
